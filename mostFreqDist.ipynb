{
 "cells": [
  {
   "cell_type": "markdown",
   "id": "e8ea67b1",
   "metadata": {},
   "source": [
    "## Objective of the Notebook\n",
    "We aim to investigate whether the stock returns follow a particular distribution. While the normal distribution is often assumed in simulations, the kurtosis of returns frequently exceeds 3, as we will observe in this notebook. Additionally, we will attempt to fit the histogram of returns to various available distributions.\n",
    "\n",
    "## Data Source\n",
    "The dataset used in this notebook consists of monthly returns of 400 stocks from the National Stock Exchange (NSE) of India over a period of 5 years.\n"
   ]
  },
  {
   "cell_type": "markdown",
   "id": "8d9dce44",
   "metadata": {},
   "source": [
    "## Part A : Checking Kurtosis"
   ]
  },
  {
   "cell_type": "code",
   "execution_count": 1,
   "id": "10fff421",
   "metadata": {},
   "outputs": [],
   "source": [
    "import numpy as np\n",
    "import pandas as pd\n",
    "import matplotlib.pyplot as plt\n",
    "from scipy.stats import kurtosis"
   ]
  },
  {
   "cell_type": "code",
   "execution_count": 2,
   "id": "c254b2c9",
   "metadata": {},
   "outputs": [],
   "source": [
    "df = pd.read_csv('monthly_data.csv')"
   ]
  },
  {
   "cell_type": "code",
   "execution_count": 3,
   "id": "024638b7",
   "metadata": {},
   "outputs": [],
   "source": [
    "df.set_index('Unnamed: 0', inplace=True)"
   ]
  },
  {
   "cell_type": "code",
   "execution_count": 4,
   "id": "0940efa2",
   "metadata": {},
   "outputs": [],
   "source": [
    "df.index.name = 'date'"
   ]
  },
  {
   "cell_type": "code",
   "execution_count": 5,
   "id": "30aafa3a",
   "metadata": {},
   "outputs": [],
   "source": [
    "df.index = pd.to_datetime(df.index)"
   ]
  },
  {
   "cell_type": "code",
   "execution_count": 6,
   "id": "f42e4a12",
   "metadata": {},
   "outputs": [],
   "source": [
    "kurt_val = df.apply(kurtosis, axis = 0)"
   ]
  },
  {
   "cell_type": "code",
   "execution_count": 7,
   "id": "953aa2e6",
   "metadata": {},
   "outputs": [
    {
     "data": {
      "text/plain": [
       "87"
      ]
     },
     "execution_count": 7,
     "metadata": {},
     "output_type": "execute_result"
    }
   ],
   "source": [
    "sum(kurt_val > 3)"
   ]
  },
  {
   "cell_type": "markdown",
   "id": "0439a577",
   "metadata": {},
   "source": [
    "## Part B: Fitting Distributions"
   ]
  },
  {
   "cell_type": "code",
   "execution_count": 8,
   "id": "f6189727",
   "metadata": {},
   "outputs": [],
   "source": [
    "from distfit import distfit\n",
    "def fit_dist(x):\n",
    "    dfit = distfit(todf=True)\n",
    "    # Fit on data\n",
    "    model = dfit.fit_transform(x, verbose = 0)\n",
    "    return dfit.summary['name'][0]"
   ]
  },
  {
   "cell_type": "code",
   "execution_count": 9,
   "id": "404399dc",
   "metadata": {},
   "outputs": [],
   "source": [
    "result = df.apply(fit_dist, axis = 0)"
   ]
  },
  {
   "cell_type": "code",
   "execution_count": 10,
   "id": "22deb1d3",
   "metadata": {},
   "outputs": [
    {
     "data": {
      "text/plain": [
       "t             160\n",
       "dweibull      111\n",
       "genextreme     50\n",
       "lognorm        31\n",
       "beta           17\n",
       "gamma          16\n",
       "loggamma       12\n",
       "norm            3\n",
       "Name: count, dtype: int64"
      ]
     },
     "execution_count": 10,
     "metadata": {},
     "output_type": "execute_result"
    }
   ],
   "source": [
    "result.value_counts()"
   ]
  },
  {
   "cell_type": "markdown",
   "id": "e7d9a06b",
   "metadata": {},
   "source": [
    "### Inference\n",
    "\n",
    "What we can observe from the results from part B  is that the return series are not normally distributed. The results from part A tells us that some stocks have kurtosis greater than 3 which is also on negative with the normal assumption."
   ]
  },
  {
   "cell_type": "code",
   "execution_count": null,
   "id": "a40f3697",
   "metadata": {},
   "outputs": [],
   "source": []
  },
  {
   "cell_type": "code",
   "execution_count": null,
   "id": "b65d8a58",
   "metadata": {},
   "outputs": [],
   "source": []
  },
  {
   "cell_type": "code",
   "execution_count": null,
   "id": "ad7a1786",
   "metadata": {},
   "outputs": [],
   "source": []
  }
 ],
 "metadata": {
  "kernelspec": {
   "display_name": "Python 3 (ipykernel)",
   "language": "python",
   "name": "python3"
  },
  "language_info": {
   "codemirror_mode": {
    "name": "ipython",
    "version": 3
   },
   "file_extension": ".py",
   "mimetype": "text/x-python",
   "name": "python",
   "nbconvert_exporter": "python",
   "pygments_lexer": "ipython3",
   "version": "3.11.7"
  }
 },
 "nbformat": 4,
 "nbformat_minor": 5
}
